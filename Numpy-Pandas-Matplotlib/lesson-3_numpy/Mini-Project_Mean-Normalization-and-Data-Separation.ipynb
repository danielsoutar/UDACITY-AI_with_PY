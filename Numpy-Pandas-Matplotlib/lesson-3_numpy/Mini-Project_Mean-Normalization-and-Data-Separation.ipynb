{
 "cells": [
  {
   "cell_type": "markdown",
   "metadata": {},
   "source": [
    "# Mean Normalization\n",
    "\n",
    "In machine learning we use large amounts of data to train our models. Some machine learning algorithms may require that the data is *normalized* in order to work correctly. The idea of normalization, also known as *feature scaling*, is to ensure that all the data is on a similar scale, *i.e.* that all the data takes on a similar range of values. For example, we might have a dataset that has values between 0 and 5,000. By normalizing the data we can make the range of values be between 0 and 1.\n",
    "\n",
    "In this lab, you will be performing a different kind of feature scaling known as *mean normalization*. Mean normalization will scale the data, but instead of making the values be between 0 and 1, it will distribute the values evenly in some small interval around zero. For example, if we have a dataset that has values between 0 and 5,000, after mean normalization the range of values will be distributed in some small range around 0, for example between -3 to 3. Because the range of values are distributed evenly around zero, this guarantees that the average (mean) of all elements will be zero. Therefore, when you perform *mean normalization* your data will not only be scaled but it will also have an average of zero. \n",
    "\n",
    "# To Do:\n",
    "\n",
    "You will start by importing NumPy and creating a rank 2 ndarray of random integers between 0 and 5,000 (inclusive) with 1000 rows and 20 columns. This array will simulate a dataset with a wide range of values. Fill in the code below"
   ]
  },
  {
   "cell_type": "code",
   "execution_count": 4,
   "metadata": {},
   "outputs": [
    {
     "name": "stdout",
     "output_type": "stream",
     "text": [
      "[[1061  335  698 ..., 4686 4082  800]\n",
      " [3033 4887 3536 ..., 2934 1033 1436]\n",
      " [  92 2770 3941 ..., 4293 3936 2364]\n",
      " ..., \n",
      " [4293  771  866 ..., 3133 1167 4060]\n",
      " [4763 1820 1567 ..., 1732 4619 2309]\n",
      " [1195  305   53 ..., 4752  560 5000]]\n"
     ]
    }
   ],
   "source": [
    "# import NumPy into Python\n",
    "import numpy as np\n",
    "\n",
    "# Create a 1000 x 20 ndarray with random integers in the half-open interval [0, 5001).\n",
    "X = np.random.randint(0, 5001, size=(1000, 20))\n",
    "\n",
    "# print the shape of X\n",
    "print(X)"
   ]
  },
  {
   "cell_type": "markdown",
   "metadata": {},
   "source": [
    "Now that you created the array we will mean normalize it. We will perform mean normalization using the following equation:\n",
    "\n",
    "$\\mbox{Norm_Col}_i = \\frac{\\mbox{Col}_i - \\mu_i}{\\sigma_i}$\n",
    "\n",
    "where $\\mbox{Col}_i$ is the $i$th column of $X$, $\\mu_i$ is average of the values in the $i$th column of $X$, and $\\sigma_i$ is the standard deviation of the values in the $i$th column of $X$. In other words, mean normalization is performed by subtracting from each column of $X$ the average of its values, and then by dividing by the standard deviation of its values. In the space below, you will first calculate the average and standard deviation of each column of $X$. "
   ]
  },
  {
   "cell_type": "code",
   "execution_count": 5,
   "metadata": {},
   "outputs": [],
   "source": [
    "# Average of the values in each column of X\n",
    "ave_cols = X.mean(axis=0)\n",
    "\n",
    "\n",
    "# Standard Deviation of the values in each column of X\n",
    "std_cols = np.std(X, axis=0)\n"
   ]
  },
  {
   "cell_type": "markdown",
   "metadata": {},
   "source": [
    "If you have done the above calculations correctly, then `ave_cols` and `std_cols`, should both be vectors with shape `(20,)` since $X$ has 20 columns. You can verify this by filling the code below:"
   ]
  },
  {
   "cell_type": "code",
   "execution_count": 6,
   "metadata": {},
   "outputs": [
    {
     "name": "stdout",
     "output_type": "stream",
     "text": [
      "[ 2491.256  2572.352  2519.419  2553.268  2593.144  2513.616  2530.543\n",
      "  2538.168  2518.43   2435.775  2493.414  2492.808  2434.871  2536.193\n",
      "  2572.42   2531.639  2445.546  2566.86   2469.542  2555.031]\n",
      "[ 1434.41248756  1449.85502175  1417.34071184  1424.78724032  1473.97284346\n",
      "  1419.78760543  1487.36130787  1468.39047728  1442.69602172  1475.67852609\n",
      "  1434.98154852  1447.29002592  1470.97256139  1474.80372652  1480.70843437\n",
      "  1446.41227894  1458.01099169  1418.96528936  1454.66601192  1475.57640807]\n"
     ]
    }
   ],
   "source": [
    "# Print the shape of ave_cols\n",
    "print(ave_cols)\n",
    "\n",
    "# Print the shape of std_cols\n",
    "print(std_cols)"
   ]
  },
  {
   "cell_type": "markdown",
   "metadata": {},
   "source": [
    "You can now take advantage of Broadcasting to calculate the mean normalized version of $X$ in just one line of code using the equation above. Fill in the code below"
   ]
  },
  {
   "cell_type": "code",
   "execution_count": 11,
   "metadata": {},
   "outputs": [],
   "source": [
    "# Mean normalize X\n",
    "X_norm = np.divide((np.subtract(X,ave_cols)),std_cols)"
   ]
  },
  {
   "cell_type": "markdown",
   "metadata": {},
   "source": [
    "If you have performed the mean normalization correctly, then the average of all the elements in $X_{\\tiny{\\mbox{norm}}}$ should be close to zero, and they should be evenly distributed in some small interval around zero. You can verify this by filing the code below:"
   ]
  },
  {
   "cell_type": "code",
   "execution_count": 12,
   "metadata": {},
   "outputs": [
    {
     "name": "stdout",
     "output_type": "stream",
     "text": [
      "[[-0.99710231 -1.54315567 -1.28509609 ...,  1.49344034  1.108473\n",
      "  -1.18938673]\n",
      " [ 0.37767658  1.59646859  0.71724533 ...,  0.25873783 -0.98754077\n",
      "  -0.75836873]\n",
      " [-1.67264021  0.1363226   1.00299172 ...,  1.21647796  1.00810632\n",
      "  -0.12946195]\n",
      " ..., \n",
      " [ 1.25608499 -1.24243595 -1.16656425 ...,  0.39898087 -0.89542341\n",
      "   1.0199194 ]\n",
      " [ 1.58374528 -0.51891533 -0.67197604 ..., -0.5883583   1.4776299\n",
      "  -0.16673552]\n",
      " [-0.90368427 -1.5638474  -1.74017368 ...,  1.5399531  -1.31270132\n",
      "   1.65695859]]\n",
      "[[-0.99710231 -1.54315567 -1.28509609 ...,  1.49344034  1.108473\n",
      "  -1.18938673]\n",
      " [ 0.37767658  1.59646859  0.71724533 ...,  0.25873783 -0.98754077\n",
      "  -0.75836873]\n",
      " [-1.67264021  0.1363226   1.00299172 ...,  1.21647796  1.00810632\n",
      "  -0.12946195]\n",
      " ..., \n",
      " [ 1.25608499 -1.24243595 -1.16656425 ...,  0.39898087 -0.89542341\n",
      "   1.0199194 ]\n",
      " [ 1.58374528 -0.51891533 -0.67197604 ..., -0.5883583   1.4776299\n",
      "  -0.16673552]\n",
      " [-0.90368427 -1.5638474  -1.74017368 ...,  1.5399531  -1.31270132\n",
      "   1.65695859]]\n",
      "[[-0.99710231 -1.54315567 -1.28509609 ...,  1.49344034  1.108473\n",
      "  -1.18938673]\n",
      " [ 0.37767658  1.59646859  0.71724533 ...,  0.25873783 -0.98754077\n",
      "  -0.75836873]\n",
      " [-1.67264021  0.1363226   1.00299172 ...,  1.21647796  1.00810632\n",
      "  -0.12946195]\n",
      " ..., \n",
      " [ 1.25608499 -1.24243595 -1.16656425 ...,  0.39898087 -0.89542341\n",
      "   1.0199194 ]\n",
      " [ 1.58374528 -0.51891533 -0.67197604 ..., -0.5883583   1.4776299\n",
      "  -0.16673552]\n",
      " [-0.90368427 -1.5638474  -1.74017368 ...,  1.5399531  -1.31270132\n",
      "   1.65695859]]\n"
     ]
    }
   ],
   "source": [
    "# Print the average of all the values of X_norm\n",
    "print(X_norm)\n",
    "\n",
    "# Print the average of the minimum value in each column of X_norm\n",
    "print(X_norm)\n",
    "\n",
    "# Print the average of the maximum value in each column of X_norm\n",
    "print(X_norm)"
   ]
  },
  {
   "cell_type": "markdown",
   "metadata": {},
   "source": [
    "You should note that since $X$ was created using random integers, the above values will vary. \n",
    "\n",
    "# Data Separation\n",
    "\n",
    "After the data has been mean normalized, it is customary in machine learnig to split our dataset into three sets:\n",
    "\n",
    "1. A Training Set\n",
    "2. A Cross Validation Set\n",
    "3. A Test Set\n",
    "\n",
    "The dataset is usually divided such that the Training Set contains 60% of the data, the Cross Validation Set contains 20% of the data, and the Test Set contains 20% of the data. \n",
    "\n",
    "In this part of the lab you will separate `X_norm` into a Training Set, Cross Validation Set, and a Test Set. Each data set will contain rows of `X_norm` chosen at random, making sure that we don't pick the same row twice. This will guarantee that all the rows of `X_norm` are chosen and randomly distributed among the three new sets.\n",
    "\n",
    "You will start by creating a rank 1 ndarray that contains a random permutation of the row indices of `X_norm`. You can do this by using the `np.random.permutation()` function. The `np.random.permutation(N)` function creates a random permutation of integers from 0 to `N - 1`. Let's see an example:"
   ]
  },
  {
   "cell_type": "code",
   "execution_count": 13,
   "metadata": {},
   "outputs": [
    {
     "data": {
      "text/plain": [
       "array([2, 3, 4, 1, 0])"
      ]
     },
     "execution_count": 13,
     "metadata": {},
     "output_type": "execute_result"
    }
   ],
   "source": [
    "# We create a random permutation of integers 0 to 4\n",
    "np.random.permutation(5)"
   ]
  },
  {
   "cell_type": "markdown",
   "metadata": {},
   "source": [
    "# To Do\n",
    "\n",
    "In the space below create a rank 1 ndarray that contains a random permutation of the row indices of `X_norm`. You can do this in one line of code by extracting the number of rows of `X_norm` using the `shape` attribute and then passing it to the  `np.random.permutation()` function. Remember the `shape` attribute returns a tuple with two numbers in the form `(rows,columns)`."
   ]
  },
  {
   "cell_type": "code",
   "execution_count": 37,
   "metadata": {},
   "outputs": [
    {
     "name": "stdout",
     "output_type": "stream",
     "text": [
      "[[-1.05636002 -0.77411326  0.69537338 ..., -0.45375317  1.29408262\n",
      "   1.09243343]\n",
      " [ 1.03369429 -1.45969905 -0.44337892 ...,  1.33064566 -0.96966726\n",
      "   0.93927295]\n",
      " [-0.70081375 -0.14301568  1.10106271 ...,  0.27776578  1.70998565\n",
      "   0.04945118]\n",
      " ..., \n",
      " [ 0.13506854  0.71707032 -1.25546313 ...,  0.03322139 -0.05055593\n",
      "  -1.3845647 ]\n",
      " [-0.03364165  1.57508714  1.36140942 ...,  1.43776597  1.13115862\n",
      "  -1.70240659]\n",
      " [ 1.73781532  0.12390756 -1.2716907  ..., -1.0978845  -1.48043742\n",
      "   0.84168396]]\n"
     ]
    }
   ],
   "source": [
    "# Create a rank 1 ndarray that contains a random permutation of the row indices of `X_norm`\n",
    "row_indices = np.random.permutation(X_norm).reshape(X_norm.shape)\n",
    "\n",
    "print(row_indices)"
   ]
  },
  {
   "cell_type": "markdown",
   "metadata": {},
   "source": [
    "Now you can create the three datasets using the `row_indices` ndarray to select the rows that will go into each dataset. Rememeber that the Training Set contains 60% of the data, the Cross Validation Set contains 20% of the data, and the Test Set contains 20% of the data. Each set requires just one line of code to create. Fill in the code below"
   ]
  },
  {
   "cell_type": "code",
   "execution_count": 45,
   "metadata": {},
   "outputs": [],
   "source": [
    "# Make any necessary calculations.\n",
    "# You can save your calculations into variables to use later.\n",
    "\n",
    "\n",
    "# Create a Training Set\n",
    "X_train = row_indices[:600,:]\n",
    "\n",
    "# Create a Cross Validation Set\n",
    "X_crossVal = row_indices[600:800,:]\n",
    "\n",
    "# Create a Test Set\n",
    "X_test = row_indices[800:1000,:]"
   ]
  },
  {
   "cell_type": "markdown",
   "metadata": {},
   "source": [
    "If you performed the above calculations correctly, then `X_tain` should have 600 rows and 20 columns, `X_crossVal` should have 200 rows and 20 columns, and `X_test` should have 200 rows and 20 columns. You can verify this by filling the code below:"
   ]
  },
  {
   "cell_type": "code",
   "execution_count": 46,
   "metadata": {},
   "outputs": [
    {
     "name": "stdout",
     "output_type": "stream",
     "text": [
      "(600, 20)\n",
      "(200, 20)\n",
      "(200, 20)\n"
     ]
    }
   ],
   "source": [
    "# Print the shape of X_train\n",
    "print(X_train.shape)\n",
    "\n",
    "# Print the shape of X_crossVal\n",
    "print(X_crossVal.shape)\n",
    "\n",
    "# Print the shape of X_test\n",
    "print(X_test.shape)"
   ]
  },
  {
   "cell_type": "code",
   "execution_count": null,
   "metadata": {},
   "outputs": [],
   "source": []
  }
 ],
 "metadata": {
  "kernelspec": {
   "display_name": "Python 3",
   "language": "python",
   "name": "python3"
  },
  "language_info": {
   "codemirror_mode": {
    "name": "ipython",
    "version": 3
   },
   "file_extension": ".py",
   "mimetype": "text/x-python",
   "name": "python",
   "nbconvert_exporter": "python",
   "pygments_lexer": "ipython3",
   "version": "3.6.3"
  }
 },
 "nbformat": 4,
 "nbformat_minor": 2
}
