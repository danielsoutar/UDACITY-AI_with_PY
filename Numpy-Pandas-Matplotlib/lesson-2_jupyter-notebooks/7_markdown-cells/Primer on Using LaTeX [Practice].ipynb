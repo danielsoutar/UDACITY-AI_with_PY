{
 "cells": [
  {
   "cell_type": "markdown",
   "metadata": {},
   "source": [
    "Some LaTeX practice from Udacity's Data Blog: [A Primer on Using LaTeX in Jupyter Notebooks](http://data-blog.udacity.com/posts/2016/10/latex-primer/)"
   ]
  },
  {
   "cell_type": "markdown",
   "metadata": {},
   "source": [
    "# Math typesetting basics"
   ]
  },
  {
   "cell_type": "raw",
   "metadata": {},
   "source": [
    "To write math inline, you use single dollar signs like this $y=mx+b$"
   ]
  },
  {
   "cell_type": "markdown",
   "metadata": {},
   "source": [
    "$y=mx+b$"
   ]
  },
  {
   "cell_type": "raw",
   "metadata": {},
   "source": [
    "To create a display expression, use two dollar signs $$P(A\\mid B) = \\frac{P(B\\mid A)P(A)}{P(B)}$$"
   ]
  },
  {
   "cell_type": "markdown",
   "metadata": {},
   "source": [
    "$$P(A\\mid B) = \\frac{P(B\\mid A)P(A)}{P(B)}$$"
   ]
  },
  {
   "cell_type": "markdown",
   "metadata": {},
   "source": [
    "# Supercript and Subscript"
   ]
  },
  {
   "cell_type": "raw",
   "metadata": {},
   "source": [
    "Superscript for exponents is done with a caret, $x^2$"
   ]
  },
  {
   "cell_type": "markdown",
   "metadata": {},
   "source": [
    "$x^2$, $e^2x$, $e^{2x}$"
   ]
  },
  {
   "cell_type": "raw",
   "metadata": {},
   "source": [
    "Use subscript text using an underscore $x_1$"
   ]
  },
  {
   "cell_type": "markdown",
   "metadata": {},
   "source": [
    "$x_1$, $_{10}C_5$"
   ]
  },
  {
   "cell_type": "markdown",
   "metadata": {},
   "source": [
    "# Commands"
   ]
  },
  {
   "cell_type": "raw",
   "metadata": {},
   "source": [
    "Special symbols and formattings are written using commands. \n",
    "\n",
    "Each command starts with a backslash, followed by the command name. For example, to create a square root radical, $\\sqrt{2\\pi}$"
   ]
  },
  {
   "cell_type": "markdown",
   "metadata": {},
   "source": [
    "$\\sqrt{2\\pi}$"
   ]
  },
  {
   "cell_type": "raw",
   "metadata": {},
   "source": [
    "The braces {} include the contents under the radical and \\pi renders as the Greek letter pi. Displaying the fraction above is done with the \\frac command."
   ]
  },
  {
   "cell_type": "markdown",
   "metadata": {},
   "source": [
    "# Symbols"
   ]
  },
  {
   "cell_type": "markdown",
   "metadata": {},
   "source": [
    "Symbols start with backslashes.\n",
    "\n",
    "[List of LaTeX mathematical symbols](http://oeis.org/wiki/List_of_LaTeX_mathematical_symbols)"
   ]
  },
  {
   "cell_type": "raw",
   "metadata": {},
   "source": [
    "For Greek letters use $\\alpha$, $\\beta$, $\\gamma$. You can do uppercase too: $\\Phi$, $\\Lambda$, $\\Gamma$"
   ]
  },
  {
   "cell_type": "markdown",
   "metadata": {},
   "source": [
    "$\\alpha$, $\\beta$, $\\gamma$, $\\Phi$, $\\Lambda$, $\\Gamma$"
   ]
  }
 ],
 "metadata": {
  "kernelspec": {
   "display_name": "Python [default]",
   "language": "python",
   "name": "python3"
  },
  "language_info": {
   "codemirror_mode": {
    "name": "ipython",
    "version": 3
   },
   "file_extension": ".py",
   "mimetype": "text/x-python",
   "name": "python",
   "nbconvert_exporter": "python",
   "pygments_lexer": "ipython3",
   "version": "3.6.5"
  }
 },
 "nbformat": 4,
 "nbformat_minor": 2
}
